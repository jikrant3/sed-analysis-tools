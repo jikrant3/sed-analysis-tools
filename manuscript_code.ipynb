{
 "cells": [
  {
   "cell_type": "code",
   "execution_count": 1,
   "metadata": {},
   "outputs": [],
   "source": [
    "import importlib\n",
    "\n",
    "import matplotlib.pyplot as plt\n",
    "import numpy as np\n",
    "import pandas as pd\n",
    "from tqdm.auto import tqdm\n",
    "\n",
    "import astropy.units as u\n",
    "import numpy as np\n",
    "import sed_analysis_tools as st"
   ]
  },
  {
   "cell_type": "markdown",
   "metadata": {},
   "source": [
    "# Filter systems\n",
    "Arrays of pivot wavelength in log(Angstrom)"
   ]
  },
  {
   "cell_type": "code",
   "execution_count": 2,
   "metadata": {},
   "outputs": [],
   "source": [
    "# optimistic filters\n",
    "x_optimistic = np.linspace(3.13, 4.70, 50)\n",
    "\n",
    "# realistic filters\n",
    "x_realistic = np.linspace(3.13, 4.70, 15)\n",
    "\n",
    "# gaia xp filters\n",
    "'''\n",
    "https://gea.esac.esa.int/archive/documentation/GDR3/Gaia_archive/chap_datamodel/sec_dm_spectroscopic_tables/ssec_dm_xp_sampled_mean_spectrum.html\n",
    "'''\n",
    "x_gaia = np.log10(10*np.linspace(336,1020, 343))\n",
    "\n",
    "# uocs filters\n",
    "x_uocs=np.log10([1481,1541,1608, #UVIT\n",
    "                 2196,2418,2447,2632, #UVIT\n",
    "                 1548,2303, #GALEX\n",
    "                 5041,5850,5850, #Gaia\n",
    "                 3608,4671,6141,7457,8922,#SDSS\n",
    "                 12350,16620,21590, #2MASS\n",
    "                 33526,46028,115608,220883 #WISE\n",
    "                ])\n",
    "\n",
    "# optical-IR filters\n",
    "x_optical_IR=np.log10([5041,5850,5850, #Gaia\n",
    "                 3608,4671,6141,7457,8922,#SDSS\n",
    "                 12350,16620,21590, #2MASS\n",
    "                 33526,46028,115608,220883 #WISE\n",
    "                ])\n"
   ]
  },
  {
   "cell_type": "markdown",
   "metadata": {},
   "source": [
    "# Analysing single stars' recovery"
   ]
  },
  {
   "cell_type": "code",
   "execution_count": null,
   "metadata": {},
   "outputs": [],
   "source": [
    "importlib.reload(st)\n",
    "\n",
    "logT_A_list = np.linspace(3.5,5.1,9)\n",
    "logL_A_list = np.full(len(logT_A_list),0)\n",
    "frac_err_list = np.logspace(-4,0,9)[:-1]\n",
    "niter = 50\n",
    "\n",
    "fit_params = []\n",
    "for idx, _logT in tqdm(enumerate(logT_A_list[:])):\n",
    "    for jdx, frac_err in enumerate(frac_err_list[:]):\n",
    "        for seed in range(niter):\n",
    "            index = jdx+len(frac_err_list)*idx\n",
    "            star = st.Star(T = 10**_logT *u.K, \n",
    "                        L = 1 *u.solLum, \n",
    "                        frac_err=frac_err,\n",
    "                        name='T%.2f_sigma%.4f_single'%(_logT,frac_err),\n",
    "                        x=x_optimistic,\n",
    "                        seed=seed)\n",
    "            star.fit_bb_Single(use_priors=True)\n",
    "\n",
    "            logT_Single = star.logT_Single if hasattr(star, 'logT_Single') else np.nan\n",
    "            logL_Single = star.logL_Single if hasattr(star, 'logL_Single') else np.nan\n",
    "            _fit_params_Single = dict(name=star.name,\n",
    "                            seed=star.seed,\n",
    "                            logT=star.logT,\n",
    "                            logL=star.logL,\n",
    "                            logT_Single=logT_Single,\n",
    "                            logL_Single=logL_Single,\n",
    "                            sigma = frac_err)\n",
    "            fit_params.append(_fit_params_Single)\n",
    "\n",
    "df_fit_params = pd.DataFrame(fit_params)"
   ]
  },
  {
   "cell_type": "code",
   "execution_count": 37,
   "metadata": {},
   "outputs": [
    {
     "data": {
      "text/plain": [
       "<matplotlib.legend.Legend at 0x76d6797826e0>"
      ]
     },
     "execution_count": 37,
     "metadata": {},
     "output_type": "execute_result"
    },
    {
     "data": {
      "image/png": "[encoded data removed]",
      "text/plain": [
       "<Figure size 432x432 with 2 Axes>"
      ]
     },
     "metadata": {
      "needs_background": "light"
     },
     "output_type": "display_data"
    }
   ],
   "source": [
    "df_fit_params.sort_values(by='sigma', inplace=True, ascending=False)\n",
    "_filter = (~np.isfinite(df_fit_params.logT_Single))\n",
    "fig, ax = plt.subplots(figsize=(6,6))\n",
    "kwargs=dict(cmap='viridis_r', alpha=1, vmin=-4, vmax=0)\n",
    "p0 = ax.scatter(df_fit_params.logT, df_fit_params.logT_Single, c=np.log10(df_fit_params.sigma),\n",
    "                marker='o', label='Successful fits', **kwargs)\n",
    "p1 = ax.scatter(df_fit_params.logT[_filter], np.full(len(df_fit_params),3.2)[_filter], \n",
    "                c=np.log10(df_fit_params.sigma[_filter]),\n",
    "                marker='x', label=f'Failed fits ({100*sum(_filter)/len(_filter):,.2f}%)', **kwargs)\n",
    "ax.axline((4,4),slope=1)\n",
    "ax.axline((4,4.1),slope=1, ls='--')\n",
    "ax.axline((4,3.9),slope=1, ls='--')\n",
    "ax.set(xlabel='log(T [k])', ylabel='log(T$_{fit}$ [k])')\n",
    "ax.set_aspect('equal', adjustable='datalim')\n",
    "plt.colorbar(p0, label='log(sigma)')\n",
    "ax.grid()\n",
    "ax.legend()"
   ]
  },
  {
   "cell_type": "markdown",
   "metadata": {},
   "source": [
    "# Analysing a general grid of temperature (Section 3)\n",
    "⚠️ ⚠️ Running the grids may take >2 hours/cell for rest of the notebook due to the large number of models. ⚠ ⚠"
   ]
  },
  {
   "cell_type": "code",
   "execution_count": 3,
   "metadata": {},
   "outputs": [
    {
     "name": "stdout",
     "output_type": "stream",
     "text": [
      "[0.0001     0.00031623 0.001      0.00316228 0.01       0.03162278\n",
      " 0.1       ] \n",
      " [3.5 3.7 3.9 4.1 4.3 4.5 4.7 4.9 5.1] \n",
      " [0 0 0 0 0 0 0 0 0]\n",
      "63\n"
     ]
    },
    {
     "data": {
      "text/plain": [
       "<matplotlib.collections.PathCollection at 0x73bb0115ebc0>"
      ]
     },
     "execution_count": 3,
     "metadata": {},
     "output_type": "execute_result"
    },
    {
     "data": {
      "image/png": "[encoded data removed]",
      "text/plain": [
       "<Figure size 432x288 with 1 Axes>"
      ]
     },
     "metadata": {
      "needs_background": "light"
     },
     "output_type": "display_data"
    }
   ],
   "source": [
    "logT_A_list = np.linspace(3.5,5.1,9)\n",
    "logL_A_list = np.full(len(logT_A_list),0)\n",
    "frac_err_list = np.logspace(-4,0,9)[:-2]\n",
    "\n",
    "logT_B_list = np.linspace(3.4,5.2,10)\n",
    "logL_B_list = np.linspace(-4.5,0,10)\n",
    "logT_B_list, logL_B = np.meshgrid(logT_B_list, logL_B_list)\n",
    "logT_B_list, logL_B_list = logT_B_list.flatten(), logL_B.flatten()\n",
    "\n",
    "print(frac_err_list, '\\n', logT_A_list, '\\n', logL_A_list)\n",
    "print(len(frac_err_list)*len(logT_A_list))\n",
    "fig, ax = plt.subplots()\n",
    "st.Plotter.plot_isochrone_and_wd(ax)\n",
    "plt.scatter(logT_A_list, logL_A_list, marker='s', edgecolors='k',facecolor='none')\n",
    "plt.scatter(logT_B_list, logL_B_list, marker='.', color='0.5')"
   ]
  },
  {
   "cell_type": "markdown",
   "metadata": {},
   "source": [
    "### Grid with optimistic_filters"
   ]
  },
  {
   "cell_type": "code",
   "execution_count": null,
   "metadata": {},
   "outputs": [
    {
     "name": "stderr",
     "output_type": "stream",
     "text": [
      "9it [00:29,  3.32s/it]\n"
     ]
    }
   ],
   "source": [
    "importlib.reload(st)\n",
    "import warnings\n",
    "warnings.filterwarnings(\"ignore\")\n",
    "\n",
    "for idx, _logT in tqdm(enumerate(logT_A_list[:])):\n",
    "    for jdx, frac_err in enumerate(frac_err_list[:]):\n",
    "        index = jdx+len(frac_err_list)*idx\n",
    "        grid = st.Grid(T_A = 10**_logT *u.K, \n",
    "                    L_A = 1 *u.solLum, \n",
    "                    logT_B_list = logT_B_list, \n",
    "                    logL_B_list = logL_B_list, \n",
    "                    niter=50,\n",
    "                    frac_err=frac_err,\n",
    "                    name='T%.2f_sigma%.4f_optimistic'%(_logT,frac_err),\n",
    "                    x=x_optimistic)\n",
    "        grid.calculate_params(refit=False)\n",
    "        grid.plot(plot_name='plots/HRDs/optimistic/%s.jpg'%grid.name)"
   ]
  },
  {
   "cell_type": "markdown",
   "metadata": {},
   "source": [
    "### Grid with realistic_filters"
   ]
  },
  {
   "cell_type": "code",
   "execution_count": null,
   "metadata": {},
   "outputs": [
    {
     "name": "stderr",
     "output_type": "stream",
     "text": [
      "9it [00:20,  2.26s/it]\n"
     ]
    }
   ],
   "source": [
    "importlib.reload(st)\n",
    "import warnings\n",
    "warnings.filterwarnings(\"ignore\")\n",
    "\n",
    "for idx, _logT in tqdm(enumerate(logT_A_list[:])):\n",
    "    for jdx, frac_err in enumerate(frac_err_list[:]):\n",
    "        index = jdx+len(frac_err_list)*idx\n",
    "        grid = st.Grid(T_A = 10**_logT *u.K, \n",
    "                    L_A = 1 *u.solLum, \n",
    "                    logT_B_list = logT_B_list, \n",
    "                    logL_B_list = logL_B_list, \n",
    "                    niter=50,\n",
    "                    frac_err=frac_err,\n",
    "                    name='T%.2f_sigma%.4f_realistic'%(_logT,frac_err),\n",
    "                    x=x_realistic)\n",
    "        grid.calculate_params(refit=False)\n",
    "        grid.plot(plot_name='plots/HRDs/realistic/%s.jpg'%grid.name)\n"
   ]
  },
  {
   "cell_type": "markdown",
   "metadata": {},
   "source": [
    "### Grid with gaia_xp_filters"
   ]
  },
  {
   "cell_type": "code",
   "execution_count": null,
   "metadata": {},
   "outputs": [
    {
     "name": "stderr",
     "output_type": "stream",
     "text": [
      "9it [01:37, 10.87s/it]\n"
     ]
    }
   ],
   "source": [
    "importlib.reload(st)\n",
    "import warnings\n",
    "warnings.filterwarnings(\"ignore\")\n",
    "\n",
    "for idx, _logT in tqdm(enumerate(logT_A_list[:])):\n",
    "    for jdx, frac_err in enumerate(frac_err_list[:]):\n",
    "        index = jdx+len(frac_err_list)*idx\n",
    "        grid = st.Grid(T_A = 10**_logT *u.K, \n",
    "                    L_A = 1 *u.solLum, \n",
    "                    logT_B_list = logT_B_list, \n",
    "                    logL_B_list = logL_B_list, \n",
    "                    niter=50,\n",
    "                    frac_err=frac_err,\n",
    "                    name='T%.2f_sigma%.4f_gaia'%(_logT,frac_err),\n",
    "                    x=x_gaia)\n",
    "        grid.calculate_params(refit=False)\n",
    "        grid.plot(plot_name='plots/HRDs/gaia/%s.jpg'%grid.name)"
   ]
  },
  {
   "cell_type": "markdown",
   "metadata": {},
   "source": [
    "### Grid with uocs_filters"
   ]
  },
  {
   "cell_type": "code",
   "execution_count": null,
   "metadata": {},
   "outputs": [
    {
     "name": "stderr",
     "output_type": "stream",
     "text": [
      "9it [00:26,  2.94s/it]\n"
     ]
    }
   ],
   "source": [
    "importlib.reload(st)\n",
    "import warnings\n",
    "warnings.filterwarnings(\"ignore\")\n",
    "\n",
    "for idx, _logT in tqdm(enumerate(logT_A_list[:])):\n",
    "    for jdx, frac_err in enumerate(frac_err_list[:]):\n",
    "        index = jdx+len(frac_err_list)*idx\n",
    "        grid = st.Grid(T_A = 10**_logT *u.K, \n",
    "                    L_A = 1 *u.solLum, \n",
    "                    logT_B_list = logT_B_list, \n",
    "                    logL_B_list = logL_B_list, \n",
    "                    niter=50,\n",
    "                    frac_err=frac_err,\n",
    "                    name='T%.2f_sigma%.4f_uocs'%(_logT,frac_err),\n",
    "                    x=x_uocs)\n",
    "        grid.calculate_params(refit=False)\n",
    "        grid.plot(plot_name='plots/HRDs/uocs/%s.jpg'%grid.name)\n"
   ]
  },
  {
   "cell_type": "markdown",
   "metadata": {},
   "source": [
    "### Grid with optical_IR_filters"
   ]
  },
  {
   "cell_type": "code",
   "execution_count": null,
   "metadata": {},
   "outputs": [],
   "source": [
    "importlib.reload(st)\n",
    "import warnings\n",
    "warnings.filterwarnings(\"ignore\")\n",
    "\n",
    "for idx, _logT in (enumerate(logT_A_list[:])):\n",
    "    for jdx, frac_err in enumerate(frac_err_list[:]):\n",
    "        index = jdx+len(frac_err_list)*idx\n",
    "        grid = st.Grid(T_A = 10**_logT *u.K, \n",
    "                    L_A = 1 *u.solLum, \n",
    "                    logT_B_list = logT_B_list, \n",
    "                    logL_B_list = logL_B_list, \n",
    "                    niter=50,\n",
    "                    frac_err=frac_err,\n",
    "                    name='T%.2f_sigma%.4f_optIR'%(_logT,frac_err),\n",
    "                    x=x_optical_IR)\n",
    "        grid.calculate_params(refit=False)\n",
    "        grid.plot(plot_name='plots/HRDs/optIR/%s.jpg'%grid.name)\n"
   ]
  },
  {
   "cell_type": "markdown",
   "metadata": {},
   "source": [
    "# Analysing unresolved binaries using Gaia XP spectra (Section 4)"
   ]
  },
  {
   "cell_type": "code",
   "execution_count": 4,
   "metadata": {},
   "outputs": [
    {
     "name": "stdout",
     "output_type": "stream",
     "text": [
      "[0.0001     0.00031623 0.001      0.00316228 0.01       0.03162278] \n",
      " [0.9, 1.0, 1.2, 1.5, 2.0, 2.5, 3.0, 4.0, 5.0, 6.0, 8.0, 10.0] \n",
      " [3.73130222 3.75960804 3.8041     3.8655     3.9765     4.04995976\n",
      " 4.1042     4.18303567 4.24364719 4.2912     4.35817123 4.40974122] \n",
      " [-0.3318039  -0.11695627  0.267       0.718       1.24        1.62019299\n",
      "  1.926       2.39660155  2.74830951  3.025       3.45681497  3.76927827]\n",
      "72\n"
     ]
    },
    {
     "data": {
      "image/png": "[encoded data removed]",
      "text/plain": [
       "<Figure size 432x288 with 1 Axes>"
      ]
     },
     "metadata": {
      "needs_background": "light"
     },
     "output_type": "display_data"
    }
   ],
   "source": [
    "zams = pd.read_csv(st.DIR_MODELS+'master_ZAMS.csv')\n",
    "zams = zams[zams.MH==0].sort_values(by='Mass')\n",
    "\n",
    "mass_list = [0.9,1.0,1.2,1.5,2.0,2.5,3.0,4.0,5.0,6.0,8.0,10.0]\n",
    "logT_A_list = np.interp(np.log10(mass_list), np.log10(zams.Mass), zams.logTe)\n",
    "logL_A_list = np.interp(np.log10(mass_list), np.log10(zams.Mass), zams.logL)\n",
    "frac_err_list = np.logspace(-4,-1,7)[:-1]\n",
    "\n",
    "print(frac_err_list, '\\n', mass_list, '\\n', logT_A_list, '\\n', logL_A_list)\n",
    "print(len(frac_err_list)*len(mass_list))\n",
    "\n",
    "fig, ax = plt.subplots()\n",
    "st.Plotter.plot_isochrone_and_wd(ax)\n",
    "plt.scatter(logT_A_list, logL_A_list, marker='s', edgecolors='k',facecolor='none')\n",
    "for mass in mass_list:\n",
    "    secondary_mass_list = mass * np.array([0.1,0.3,0.5,0.7,0.9])\n",
    "    logT_B_list = np.interp(np.log10(secondary_mass_list), np.log10(zams.Mass), zams.logTe)\n",
    "    logL_B_list = np.interp(np.log10(secondary_mass_list), np.log10(zams.Mass), zams.logL)\n",
    "    plt.scatter(logT_B_list, logL_B_list, marker='.')"
   ]
  },
  {
   "cell_type": "code",
   "execution_count": null,
   "metadata": {},
   "outputs": [
    {
     "name": "stderr",
     "output_type": "stream",
     "text": [
      "12it [1:33:30, 467.52s/it]\n"
     ]
    }
   ],
   "source": [
    "importlib.reload(st)\n",
    "\n",
    "for idx, mass in tqdm(enumerate(mass_list[:])):\n",
    "    T_A = 10**logT_A_list[idx]\n",
    "    L_A = 10**logL_A_list[idx]\n",
    "\n",
    "    secondary_mass_list = mass * np.array([0.1,0.3,0.5,0.7,0.9])\n",
    "    logT_B_list = np.interp(np.log10(secondary_mass_list), np.log10(zams.Mass), zams.logTe)\n",
    "    logL_B_list = np.interp(np.log10(secondary_mass_list), np.log10(zams.Mass), zams.logL)\n",
    "    \n",
    "    for jdx, frac_err in enumerate(frac_err_list[:]):\n",
    "        index = jdx+len(frac_err_list)*idx\n",
    "        grid = st.Grid(T_A = T_A*u.K, \n",
    "                    L_A = L_A*u.solLum, \n",
    "                    niter=50,\n",
    "                    frac_err=frac_err,\n",
    "                    name='M%.2f_sigma%.4f_gaia'%(mass, frac_err),\n",
    "                    logT_B_list=logT_B_list,\n",
    "                    logL_B_list=logL_B_list,\n",
    "                    x=x_gaia)\n",
    "        grid.calculate_params(refit=False)\n",
    "        grid.plot(plot_name='plots/HRDs/unresolved/%s.jpg'%grid.name)"
   ]
  },
  {
   "cell_type": "markdown",
   "metadata": {},
   "source": [
    "# Analysing UOCS type hotter companions (Section 5)"
   ]
  },
  {
   "cell_type": "code",
   "execution_count": 5,
   "metadata": {},
   "outputs": [
    {
     "name": "stdout",
     "output_type": "stream",
     "text": [
      "[0.001      0.00316228 0.01       0.03162278 0.1       ] \n",
      " [0.8, 1.0, 1.2, 1.4, 1.6, 1.8, 2.0, 2.5, 3.0] \n",
      " [3.6961     3.75960804 3.8041     3.8421     3.8922     3.93910271\n",
      " 3.9765     4.04995976 4.1042    ] \n",
      " [-0.569      -0.11695627  0.267       0.583       0.842       1.05397301\n",
      "  1.24        1.62019299  1.926     ]\n",
      "45\n"
     ]
    },
    {
     "data": {
      "text/plain": [
       "<matplotlib.colorbar.Colorbar at 0x73bb00de1cc0>"
      ]
     },
     "execution_count": 5,
     "metadata": {},
     "output_type": "execute_result"
    },
    {
     "data": {
      "image/png": "[encoded data removed]",
      "text/plain": [
       "<Figure size 432x288 with 2 Axes>"
      ]
     },
     "metadata": {
      "needs_background": "light"
     },
     "output_type": "display_data"
    }
   ],
   "source": [
    "importlib.reload(st)\n",
    "\n",
    "zams = pd.read_csv(st.DIR_MODELS+'master_ZAMS.csv')\n",
    "zams = zams[zams.MH==0].sort_values(by='Mass')\n",
    "\n",
    "mass_list = [0.8,1.0,1.2,1.4,1.6,1.8,2.0,2.5,3.0]\n",
    "logT_A_list = np.interp(np.log10(mass_list), np.log10(zams.Mass), zams.logTe)\n",
    "logL_A_list = np.interp(np.log10(mass_list), np.log10(zams.Mass), zams.logL)\n",
    "frac_err_list = np.logspace(-3,-1,5)[:]\n",
    "\n",
    "print(frac_err_list, '\\n', mass_list, '\\n', logT_A_list, '\\n', logL_A_list)\n",
    "print(len(frac_err_list)*len(mass_list))\n",
    "\n",
    "logT_B_list = np.linspace(4.7,3.95,10)\n",
    "logL_B_list = np.linspace(-3,1.5,11)\n",
    "logT_B_list, logL_B_list = np.meshgrid(logT_B_list, logL_B_list)\n",
    "i = np.indices(logT_B_list.shape)\n",
    "_filter_1 = (i[0]+i[1]<17).flatten()\n",
    "_filter_2 = (i[0]+i[1]>1).flatten()\n",
    "_filter = (_filter_1&_filter_2)\n",
    "logT_B_list = logT_B_list.flatten()[_filter]\n",
    "logL_B_list = logL_B_list.flatten()[_filter]\n",
    "\n",
    "fig, ax = plt.subplots()\n",
    "st.Plotter.plot_isochrone_and_wd(ax=ax)\n",
    "ax.scatter(logT_A_list,logL_A_list, marker='s')\n",
    "p0 = ax.scatter(logT_B_list,logL_B_list)\n",
    "plt.colorbar(p0)"
   ]
  },
  {
   "cell_type": "markdown",
   "metadata": {},
   "source": [
    "### Hotter companions with uocs_filters"
   ]
  },
  {
   "cell_type": "code",
   "execution_count": null,
   "metadata": {},
   "outputs": [],
   "source": [
    "importlib.reload(st)\n",
    "import warnings\n",
    "warnings.filterwarnings(\"ignore\")\n",
    "\n",
    "for idx, mass in tqdm(enumerate(mass_list[:])):\n",
    "    T_A = 10**logT_A_list[idx]\n",
    "    L_A = 10**logL_A_list[idx]   \n",
    "    _filter =  (logL_B_list <=logL_A_list[idx])\n",
    "    for jdx, frac_err in enumerate(frac_err_list[:]):\n",
    "        index = jdx+len(frac_err_list)*idx\n",
    "        grid = st.Grid(T_A = T_A*u.K, \n",
    "                    L_A = L_A*u.solLum, \n",
    "                    niter=50,\n",
    "                    frac_err=frac_err,\n",
    "                    name='M%.2f_sigma%.4f_uocs'%(mass,frac_err),\n",
    "                    logT_B_list=logT_B_list[_filter],\n",
    "                    logL_B_list=logL_B_list[_filter],\n",
    "                    x=x_uocs)\n",
    "        grid.calculate_params(refit=False)\n",
    "        grid.plot(plot_name='plots/HRDs/hotter_companion/%s.jpg'%grid.name)\n"
   ]
  },
  {
   "cell_type": "markdown",
   "metadata": {},
   "source": [
    "### Hotter companions with optical_IR_filters"
   ]
  },
  {
   "cell_type": "code",
   "execution_count": null,
   "metadata": {},
   "outputs": [
    {
     "name": "stderr",
     "output_type": "stream",
     "text": [
      "9it [00:19,  2.12s/it]\n"
     ]
    }
   ],
   "source": [
    "importlib.reload(st)\n",
    "import warnings\n",
    "warnings.filterwarnings(\"ignore\")\n",
    "\n",
    "for idx, mass in tqdm(enumerate(mass_list[:])):\n",
    "    T_A = 10**logT_A_list[idx]\n",
    "    L_A = 10**logL_A_list[idx]   \n",
    "    _filter =  (logL_B_list <=logL_A_list[idx])\n",
    "    for jdx, frac_err in enumerate(frac_err_list[:]):\n",
    "        index = jdx+len(frac_err_list)*idx\n",
    "        grid = st.Grid(T_A = T_A*u.K, \n",
    "                    L_A = L_A*u.solLum, \n",
    "                    niter=50,\n",
    "                    frac_err=frac_err,\n",
    "                    name='M%.2f_sigma%.4f_optIR'%(mass,frac_err),\n",
    "                    logT_B_list=logT_B_list[_filter],\n",
    "                    logL_B_list=logL_B_list[_filter],\n",
    "                    x=x_optical_IR)\n",
    "        grid.calculate_params(refit=False)\n",
    "        grid.plot(plot_name='plots/HRDs/hotter_companion/%s.jpg'%grid.name)\n"
   ]
  }
 ],
 "metadata": {
  "kernelspec": {
   "display_name": "Python 3",
   "language": "python",
   "name": "python3"
  },
  "language_info": {
   "codemirror_mode": {
    "name": "ipython",
    "version": 3
   },
   "file_extension": ".py",
   "mimetype": "text/x-python",
   "name": "python",
   "nbconvert_exporter": "python",
   "pygments_lexer": "ipython3",
   "version": "3.10.12"
  }
 },
 "nbformat": 4,
 "nbformat_minor": 2
}
